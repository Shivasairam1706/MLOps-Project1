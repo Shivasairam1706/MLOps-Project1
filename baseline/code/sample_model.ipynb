{
 "cells": [
  {
   "cell_type": "code",
   "execution_count": 1,
   "id": "047fefe4-34a0-4208-a918-9e0d9be52bd4",
   "metadata": {},
   "outputs": [],
   "source": [
    "# Import necessary libraries\n",
    "import pandas as pd\n",
    "import numpy as np\n",
    "from sklearn.model_selection import train_test_split\n",
    "from sklearn.preprocessing import StandardScaler\n",
    "import boto3\n",
    "import joblib\n",
    "import os"
   ]
  },
  {
   "cell_type": "code",
   "execution_count": 2,
   "id": "164672a1-9dc5-41d1-bfbf-820a7058bdc6",
   "metadata": {},
   "outputs": [
    {
     "data": {
      "text/html": [
       "<div>\n",
       "<style scoped>\n",
       "    .dataframe tbody tr th:only-of-type {\n",
       "        vertical-align: middle;\n",
       "    }\n",
       "\n",
       "    .dataframe tbody tr th {\n",
       "        vertical-align: top;\n",
       "    }\n",
       "\n",
       "    .dataframe thead th {\n",
       "        text-align: right;\n",
       "    }\n",
       "</style>\n",
       "<table border=\"1\" class=\"dataframe\">\n",
       "  <thead>\n",
       "    <tr style=\"text-align: right;\">\n",
       "      <th></th>\n",
       "      <th>timestamp</th>\n",
       "      <th>open</th>\n",
       "      <th>high</th>\n",
       "      <th>low</th>\n",
       "      <th>close</th>\n",
       "      <th>volume</th>\n",
       "      <th>quote_asset_volume</th>\n",
       "      <th>number_of_trades</th>\n",
       "      <th>taker_buy_base_asset_volume</th>\n",
       "      <th>taker_buy_quote_asset_volume</th>\n",
       "    </tr>\n",
       "  </thead>\n",
       "  <tbody>\n",
       "    <tr>\n",
       "      <th>0</th>\n",
       "      <td>2023-08-01 13:19:00</td>\n",
       "      <td>28902.48</td>\n",
       "      <td>28902.49</td>\n",
       "      <td>28902.48</td>\n",
       "      <td>28902.49</td>\n",
       "      <td>4.68658</td>\n",
       "      <td>1.354538e+05</td>\n",
       "      <td>258</td>\n",
       "      <td>0.89391</td>\n",
       "      <td>25836.224836</td>\n",
       "    </tr>\n",
       "    <tr>\n",
       "      <th>1</th>\n",
       "      <td>2023-08-01 13:18:00</td>\n",
       "      <td>28902.48</td>\n",
       "      <td>28902.49</td>\n",
       "      <td>28902.48</td>\n",
       "      <td>28902.49</td>\n",
       "      <td>4.77589</td>\n",
       "      <td>1.380351e+05</td>\n",
       "      <td>317</td>\n",
       "      <td>2.24546</td>\n",
       "      <td>64899.385195</td>\n",
       "    </tr>\n",
       "    <tr>\n",
       "      <th>2</th>\n",
       "      <td>2023-08-01 13:17:00</td>\n",
       "      <td>28908.52</td>\n",
       "      <td>28908.53</td>\n",
       "      <td>28902.48</td>\n",
       "      <td>28902.49</td>\n",
       "      <td>11.52263</td>\n",
       "      <td>3.330532e+05</td>\n",
       "      <td>451</td>\n",
       "      <td>2.70873</td>\n",
       "      <td>78290.170121</td>\n",
       "    </tr>\n",
       "    <tr>\n",
       "      <th>3</th>\n",
       "      <td>2023-08-01 13:16:00</td>\n",
       "      <td>28907.41</td>\n",
       "      <td>28912.74</td>\n",
       "      <td>28907.41</td>\n",
       "      <td>28908.53</td>\n",
       "      <td>15.89610</td>\n",
       "      <td>4.595556e+05</td>\n",
       "      <td>483</td>\n",
       "      <td>10.22981</td>\n",
       "      <td>295738.166916</td>\n",
       "    </tr>\n",
       "    <tr>\n",
       "      <th>4</th>\n",
       "      <td>2023-08-01 13:15:00</td>\n",
       "      <td>28896.00</td>\n",
       "      <td>28907.42</td>\n",
       "      <td>28893.03</td>\n",
       "      <td>28907.41</td>\n",
       "      <td>37.74657</td>\n",
       "      <td>1.090761e+06</td>\n",
       "      <td>686</td>\n",
       "      <td>16.50452</td>\n",
       "      <td>476955.246611</td>\n",
       "    </tr>\n",
       "  </tbody>\n",
       "</table>\n",
       "</div>"
      ],
      "text/plain": [
       "             timestamp      open      high       low     close    volume  \\\n",
       "0  2023-08-01 13:19:00  28902.48  28902.49  28902.48  28902.49   4.68658   \n",
       "1  2023-08-01 13:18:00  28902.48  28902.49  28902.48  28902.49   4.77589   \n",
       "2  2023-08-01 13:17:00  28908.52  28908.53  28902.48  28902.49  11.52263   \n",
       "3  2023-08-01 13:16:00  28907.41  28912.74  28907.41  28908.53  15.89610   \n",
       "4  2023-08-01 13:15:00  28896.00  28907.42  28893.03  28907.41  37.74657   \n",
       "\n",
       "   quote_asset_volume  number_of_trades  taker_buy_base_asset_volume  \\\n",
       "0        1.354538e+05               258                      0.89391   \n",
       "1        1.380351e+05               317                      2.24546   \n",
       "2        3.330532e+05               451                      2.70873   \n",
       "3        4.595556e+05               483                     10.22981   \n",
       "4        1.090761e+06               686                     16.50452   \n",
       "\n",
       "   taker_buy_quote_asset_volume  \n",
       "0                  25836.224836  \n",
       "1                  64899.385195  \n",
       "2                  78290.170121  \n",
       "3                 295738.166916  \n",
       "4                 476955.246611  "
      ]
     },
     "execution_count": 2,
     "metadata": {},
     "output_type": "execute_result"
    }
   ],
   "source": [
    "# Load dataset from CSV\n",
    "csv_file = \"bitcoin_2017_to_2023.csv\"  # Replace with actual file path\n",
    "df = pd.read_csv(csv_file)\n",
    "\n",
    "# Display the first few rows\n",
    "df.head()"
   ]
  },
  {
   "cell_type": "markdown",
   "id": "20ef0b14-dd9a-4ac4-8429-7e3a6908d85e",
   "metadata": {},
   "source": [
    "### Preprocess the Dataset"
   ]
  },
  {
   "cell_type": "code",
   "execution_count": 3,
   "id": "b5d36172-07f4-4694-8774-d1829a284abd",
   "metadata": {},
   "outputs": [],
   "source": [
    "# Drop timestamp column (not needed for training)\n",
    "df.drop(columns=[\"timestamp\"], inplace=True)"
   ]
  },
  {
   "cell_type": "code",
   "execution_count": 4,
   "id": "e896b768-4774-486d-9e5e-5fd5003d0e2d",
   "metadata": {},
   "outputs": [],
   "source": [
    "# Define features and target variable (predicting 'close' price)\n",
    "X = df.drop(columns=[\"close\"])  # Features\n",
    "y = df[\"close\"]  # Target variable"
   ]
  },
  {
   "cell_type": "code",
   "execution_count": 5,
   "id": "230d2f44-9f68-40c1-a17b-4cfce64f89da",
   "metadata": {},
   "outputs": [],
   "source": [
    "# Split into train and test sets (80% train, 20% test)\n",
    "X_train, X_test, y_train, y_test = train_test_split(X, y, test_size=0.2, random_state=42)"
   ]
  },
  {
   "cell_type": "code",
   "execution_count": 6,
   "id": "b5d4dcc9-0713-4117-ab36-c28ef7c0b21b",
   "metadata": {},
   "outputs": [],
   "source": [
    "# Scale the data\n",
    "scaler = StandardScaler()\n",
    "X_train = scaler.fit_transform(X_train)\n",
    "X_test = scaler.transform(X_test)"
   ]
  },
  {
   "cell_type": "markdown",
   "id": "994ef343-06d2-49db-a3af-be55ed3c0e9b",
   "metadata": {},
   "source": [
    "### Train a Machine Learning Model"
   ]
  },
  {
   "cell_type": "code",
   "execution_count": 7,
   "id": "5c7c19cc-f8a0-4207-970b-297930d270e3",
   "metadata": {},
   "outputs": [],
   "source": [
    "from sklearn.ensemble import RandomForestRegressor\n",
    "from sklearn.metrics import mean_absolute_error"
   ]
  },
  {
   "cell_type": "code",
   "execution_count": null,
   "id": "11102eea-da5d-40ac-83e7-b000536cd3d2",
   "metadata": {},
   "outputs": [],
   "source": [
    "# Train model\n",
    "model = RandomForestRegressor(n_estimators=100, random_state=42)\n",
    "model.fit(X_train, y_train)"
   ]
  },
  {
   "cell_type": "code",
   "execution_count": null,
   "id": "96717fea-e67c-48ee-8cd4-cb809670c6ad",
   "metadata": {},
   "outputs": [],
   "source": [
    "# Evaluate model\n",
    "y_pred = model.predict(X_test)\n",
    "mae = mean_absolute_error(y_test, y_pred)\n",
    "print(f\"Mean Absolute Error: {mae}\")"
   ]
  },
  {
   "cell_type": "code",
   "execution_count": null,
   "id": "6445e620-6227-474c-82d2-c09d95e7f31f",
   "metadata": {},
   "outputs": [],
   "source": [
    "### Save and Package the Model"
   ]
  },
  {
   "cell_type": "code",
   "execution_count": null,
   "id": "7a13facf-ee3c-4226-a622-f904b3dc4f56",
   "metadata": {},
   "outputs": [],
   "source": [
    "# Save model and scaler\n",
    "os.makedirs(\"model\", exist_ok=True)\n",
    "joblib.dump(model, \"model/model.pkl\")\n",
    "joblib.dump(scaler, \"model/scaler.pkl\")"
   ]
  },
  {
   "cell_type": "code",
   "execution_count": null,
   "id": "842ade06",
   "metadata": {},
   "outputs": [],
   "source": []
  }
 ],
 "metadata": {
  "kernelspec": {
   "display_name": "Python 3 (ipykernel)",
   "language": "python",
   "name": "python3"
  },
  "language_info": {
   "codemirror_mode": {
    "name": "ipython",
    "version": 3
   },
   "file_extension": ".py",
   "mimetype": "text/x-python",
   "name": "python",
   "nbconvert_exporter": "python",
   "pygments_lexer": "ipython3",
   "version": "3.9.21"
  }
 },
 "nbformat": 4,
 "nbformat_minor": 5
}
