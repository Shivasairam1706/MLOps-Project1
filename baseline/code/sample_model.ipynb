{
 "cells": [
  {
   "cell_type": "code",
   "execution_count": 1,
   "id": "047fefe4-34a0-4208-a918-9e0d9be52bd4",
   "metadata": {},
   "outputs": [],
   "source": [
    "# Import necessary libraries\n",
    "import pandas as pd\n",
    "import numpy as np\n",
    "from sklearn.model_selection import train_test_split\n",
    "from sklearn.preprocessing import StandardScaler\n",
    "import boto3\n",
    "import joblib\n",
    "import os"
   ]
  },
  {
   "cell_type": "code",
   "execution_count": 2,
   "id": "164672a1-9dc5-41d1-bfbf-820a7058bdc6",
   "metadata": {},
   "outputs": [
    {
     "data": {
      "text/html": [
       "<div>\n",
       "<style scoped>\n",
       "    .dataframe tbody tr th:only-of-type {\n",
       "        vertical-align: middle;\n",
       "    }\n",
       "\n",
       "    .dataframe tbody tr th {\n",
       "        vertical-align: top;\n",
       "    }\n",
       "\n",
       "    .dataframe thead th {\n",
       "        text-align: right;\n",
       "    }\n",
       "</style>\n",
       "<table border=\"1\" class=\"dataframe\">\n",
       "  <thead>\n",
       "    <tr style=\"text-align: right;\">\n",
       "      <th></th>\n",
       "      <th>timestamp</th>\n",
       "      <th>open</th>\n",
       "      <th>high</th>\n",
       "      <th>low</th>\n",
       "      <th>close</th>\n",
       "      <th>volume</th>\n",
       "      <th>quote_asset_volume</th>\n",
       "      <th>number_of_trades</th>\n",
       "      <th>taker_buy_base_asset_volume</th>\n",
       "      <th>taker_buy_quote_asset_volume</th>\n",
       "    </tr>\n",
       "  </thead>\n",
       "  <tbody>\n",
       "    <tr>\n",
       "      <th>0</th>\n",
       "      <td>2023-08-01 13:19:00</td>\n",
       "      <td>28902.48</td>\n",
       "      <td>28902.49</td>\n",
       "      <td>28902.48</td>\n",
       "      <td>28902.49</td>\n",
       "      <td>4.68658</td>\n",
       "      <td>1.354538e+05</td>\n",
       "      <td>258</td>\n",
       "      <td>0.89391</td>\n",
       "      <td>25836.224836</td>\n",
       "    </tr>\n",
       "    <tr>\n",
       "      <th>1</th>\n",
       "      <td>2023-08-01 13:18:00</td>\n",
       "      <td>28902.48</td>\n",
       "      <td>28902.49</td>\n",
       "      <td>28902.48</td>\n",
       "      <td>28902.49</td>\n",
       "      <td>4.77589</td>\n",
       "      <td>1.380351e+05</td>\n",
       "      <td>317</td>\n",
       "      <td>2.24546</td>\n",
       "      <td>64899.385195</td>\n",
       "    </tr>\n",
       "    <tr>\n",
       "      <th>2</th>\n",
       "      <td>2023-08-01 13:17:00</td>\n",
       "      <td>28908.52</td>\n",
       "      <td>28908.53</td>\n",
       "      <td>28902.48</td>\n",
       "      <td>28902.49</td>\n",
       "      <td>11.52263</td>\n",
       "      <td>3.330532e+05</td>\n",
       "      <td>451</td>\n",
       "      <td>2.70873</td>\n",
       "      <td>78290.170121</td>\n",
       "    </tr>\n",
       "    <tr>\n",
       "      <th>3</th>\n",
       "      <td>2023-08-01 13:16:00</td>\n",
       "      <td>28907.41</td>\n",
       "      <td>28912.74</td>\n",
       "      <td>28907.41</td>\n",
       "      <td>28908.53</td>\n",
       "      <td>15.89610</td>\n",
       "      <td>4.595556e+05</td>\n",
       "      <td>483</td>\n",
       "      <td>10.22981</td>\n",
       "      <td>295738.166916</td>\n",
       "    </tr>\n",
       "    <tr>\n",
       "      <th>4</th>\n",
       "      <td>2023-08-01 13:15:00</td>\n",
       "      <td>28896.00</td>\n",
       "      <td>28907.42</td>\n",
       "      <td>28893.03</td>\n",
       "      <td>28907.41</td>\n",
       "      <td>37.74657</td>\n",
       "      <td>1.090761e+06</td>\n",
       "      <td>686</td>\n",
       "      <td>16.50452</td>\n",
       "      <td>476955.246611</td>\n",
       "    </tr>\n",
       "  </tbody>\n",
       "</table>\n",
       "</div>"
      ],
      "text/plain": [
       "             timestamp      open      high       low     close    volume  \\\n",
       "0  2023-08-01 13:19:00  28902.48  28902.49  28902.48  28902.49   4.68658   \n",
       "1  2023-08-01 13:18:00  28902.48  28902.49  28902.48  28902.49   4.77589   \n",
       "2  2023-08-01 13:17:00  28908.52  28908.53  28902.48  28902.49  11.52263   \n",
       "3  2023-08-01 13:16:00  28907.41  28912.74  28907.41  28908.53  15.89610   \n",
       "4  2023-08-01 13:15:00  28896.00  28907.42  28893.03  28907.41  37.74657   \n",
       "\n",
       "   quote_asset_volume  number_of_trades  taker_buy_base_asset_volume  \\\n",
       "0        1.354538e+05               258                      0.89391   \n",
       "1        1.380351e+05               317                      2.24546   \n",
       "2        3.330532e+05               451                      2.70873   \n",
       "3        4.595556e+05               483                     10.22981   \n",
       "4        1.090761e+06               686                     16.50452   \n",
       "\n",
       "   taker_buy_quote_asset_volume  \n",
       "0                  25836.224836  \n",
       "1                  64899.385195  \n",
       "2                  78290.170121  \n",
       "3                 295738.166916  \n",
       "4                 476955.246611  "
      ]
     },
     "execution_count": 2,
     "metadata": {},
     "output_type": "execute_result"
    }
   ],
   "source": [
    "# Load dataset from CSV\n",
    "csv_file = \"bitcoin_2017_to_2023.csv\"  # Replace with actual file path\n",
    "df = pd.read_csv(csv_file)\n",
    "\n",
    "# Display the first few rows\n",
    "df.head()"
   ]
  },
  {
   "cell_type": "markdown",
   "id": "20ef0b14-dd9a-4ac4-8429-7e3a6908d85e",
   "metadata": {},
   "source": [
    "### Preprocess the Dataset"
   ]
  },
  {
   "cell_type": "code",
   "execution_count": 3,
   "id": "b5d36172-07f4-4694-8774-d1829a284abd",
   "metadata": {},
   "outputs": [],
   "source": [
    "# Drop timestamp column (not needed for training)\n",
    "df.drop(columns=[\"timestamp\"], inplace=True)"
   ]
  },
  {
   "cell_type": "code",
   "execution_count": 4,
   "id": "e896b768-4774-486d-9e5e-5fd5003d0e2d",
   "metadata": {},
   "outputs": [],
   "source": [
    "# Define features and target variable (predicting 'close' price)\n",
    "X = df.drop(columns=[\"close\"])  # Features\n",
    "y = df[\"close\"]  # Target variable"
   ]
  },
  {
   "cell_type": "code",
   "execution_count": 5,
   "id": "230d2f44-9f68-40c1-a17b-4cfce64f89da",
   "metadata": {},
   "outputs": [],
   "source": [
    "# Split into train and test sets (80% train, 20% test)\n",
    "X_train, X_test, y_train, y_test = train_test_split(X, y, test_size=0.2, random_state=42)"
   ]
  },
  {
   "cell_type": "code",
   "execution_count": 6,
   "id": "b5d4dcc9-0713-4117-ab36-c28ef7c0b21b",
   "metadata": {},
   "outputs": [],
   "source": [
    "# Scale the data\n",
    "scaler = StandardScaler()\n",
    "X_train = scaler.fit_transform(X_train)\n",
    "X_test = scaler.transform(X_test)"
   ]
  },
  {
   "cell_type": "markdown",
   "id": "994ef343-06d2-49db-a3af-be55ed3c0e9b",
   "metadata": {},
   "source": [
    "### Train a Machine Learning Model"
   ]
  },
  {
   "cell_type": "code",
   "execution_count": 7,
   "id": "5c7c19cc-f8a0-4207-970b-297930d270e3",
   "metadata": {},
   "outputs": [],
   "source": [
    "from sklearn.ensemble import RandomForestRegressor\n",
    "from sklearn.metrics import mean_absolute_error"
   ]
  },
  {
   "cell_type": "code",
   "execution_count": null,
   "id": "11102eea-da5d-40ac-83e7-b000536cd3d2",
   "metadata": {},
   "outputs": [],
   "source": [
    "# Train model\n",
    "model = RandomForestRegressor(n_estimators=100, random_state=42)\n",
    "model.fit(X_train, y_train)"
   ]
  },
  {
   "cell_type": "code",
   "execution_count": null,
   "id": "96717fea-e67c-48ee-8cd4-cb809670c6ad",
   "metadata": {},
   "outputs": [],
   "source": [
    "# Evaluate model\n",
    "y_pred = model.predict(X_test)\n",
    "mae = mean_absolute_error(y_test, y_pred)\n",
    "print(f\"Mean Absolute Error: {mae}\")"
   ]
  },
  {
   "cell_type": "code",
   "execution_count": null,
   "id": "6445e620-6227-474c-82d2-c09d95e7f31f",
   "metadata": {},
   "outputs": [],
   "source": [
    "### Save and Package the Model"
   ]
  },
  {
   "cell_type": "code",
   "execution_count": null,
   "id": "7a13facf-ee3c-4226-a622-f904b3dc4f56",
   "metadata": {},
   "outputs": [],
   "source": [
    "# Save model and scaler\n",
    "os.makedirs(\"model\", exist_ok=True)\n",
    "joblib.dump(model, \"model/model.pkl\")\n",
    "joblib.dump(scaler, \"model/scaler.pkl\")"
   ]
  },
  {
   "cell_type": "markdown",
   "id": "da607e7d-7805-4c0b-9e77-09fd242679f9",
   "metadata": {},
   "source": [
    "### New Model"
   ]
  },
  {
   "cell_type": "code",
   "execution_count": 1,
   "id": "88f047ff-a727-42b7-9229-df23e8ea63aa",
   "metadata": {},
   "outputs": [],
   "source": [
    "import pandas as pd\n",
    "import datetime\n",
    "from datetime import date, timedelta"
   ]
  },
  {
   "cell_type": "code",
   "execution_count": 15,
   "id": "045d5ecc-2034-48fe-84c9-2a1d6a10d36a",
   "metadata": {},
   "outputs": [],
   "source": [
    "data = pd.read_csv('/home/jupyteruser/work/data/btc_15m_data_2018_to_2025.csv')"
   ]
  },
  {
   "cell_type": "code",
   "execution_count": 3,
   "id": "2d00d763-6ed7-4fcc-be9d-76a6ea7c699e",
   "metadata": {},
   "outputs": [
    {
     "data": {
      "text/html": [
       "<div>\n",
       "<style scoped>\n",
       "    .dataframe tbody tr th:only-of-type {\n",
       "        vertical-align: middle;\n",
       "    }\n",
       "\n",
       "    .dataframe tbody tr th {\n",
       "        vertical-align: top;\n",
       "    }\n",
       "\n",
       "    .dataframe thead th {\n",
       "        text-align: right;\n",
       "    }\n",
       "</style>\n",
       "<table border=\"1\" class=\"dataframe\">\n",
       "  <thead>\n",
       "    <tr style=\"text-align: right;\">\n",
       "      <th></th>\n",
       "      <th>Open time</th>\n",
       "      <th>Open</th>\n",
       "      <th>High</th>\n",
       "      <th>Low</th>\n",
       "      <th>Close</th>\n",
       "      <th>Volume</th>\n",
       "      <th>Close time</th>\n",
       "      <th>Quote asset volume</th>\n",
       "      <th>Number of trades</th>\n",
       "      <th>Taker buy base asset volume</th>\n",
       "      <th>Taker buy quote asset volume</th>\n",
       "      <th>Ignore</th>\n",
       "    </tr>\n",
       "  </thead>\n",
       "  <tbody>\n",
       "    <tr>\n",
       "      <th>0</th>\n",
       "      <td>2018-01-01 00:00:00</td>\n",
       "      <td>13715.65</td>\n",
       "      <td>13715.65</td>\n",
       "      <td>13400.01</td>\n",
       "      <td>13556.15</td>\n",
       "      <td>123.616013</td>\n",
       "      <td>2018-01-01 00:14:59.999</td>\n",
       "      <td>1.675545e+06</td>\n",
       "      <td>1572</td>\n",
       "      <td>63.227133</td>\n",
       "      <td>8.576108e+05</td>\n",
       "      <td>0</td>\n",
       "    </tr>\n",
       "    <tr>\n",
       "      <th>1</th>\n",
       "      <td>2018-01-01 00:15:00</td>\n",
       "      <td>13533.75</td>\n",
       "      <td>13550.87</td>\n",
       "      <td>13402.00</td>\n",
       "      <td>13521.12</td>\n",
       "      <td>98.136430</td>\n",
       "      <td>2018-01-01 00:29:59.999</td>\n",
       "      <td>1.321757e+06</td>\n",
       "      <td>1461</td>\n",
       "      <td>47.686389</td>\n",
       "      <td>6.422812e+05</td>\n",
       "      <td>0</td>\n",
       "    </tr>\n",
       "    <tr>\n",
       "      <th>2</th>\n",
       "      <td>2018-01-01 00:30:00</td>\n",
       "      <td>13500.00</td>\n",
       "      <td>13545.37</td>\n",
       "      <td>13450.00</td>\n",
       "      <td>13470.41</td>\n",
       "      <td>79.904037</td>\n",
       "      <td>2018-01-01 00:44:59.999</td>\n",
       "      <td>1.078825e+06</td>\n",
       "      <td>1000</td>\n",
       "      <td>43.710406</td>\n",
       "      <td>5.900347e+05</td>\n",
       "      <td>0</td>\n",
       "    </tr>\n",
       "    <tr>\n",
       "      <th>3</th>\n",
       "      <td>2018-01-01 00:45:00</td>\n",
       "      <td>13494.65</td>\n",
       "      <td>13690.87</td>\n",
       "      <td>13450.00</td>\n",
       "      <td>13529.01</td>\n",
       "      <td>141.699719</td>\n",
       "      <td>2018-01-01 00:59:59.999</td>\n",
       "      <td>1.917783e+06</td>\n",
       "      <td>1195</td>\n",
       "      <td>73.897993</td>\n",
       "      <td>1.000614e+06</td>\n",
       "      <td>0</td>\n",
       "    </tr>\n",
       "    <tr>\n",
       "      <th>4</th>\n",
       "      <td>2018-01-01 01:00:00</td>\n",
       "      <td>13528.99</td>\n",
       "      <td>13571.74</td>\n",
       "      <td>13402.28</td>\n",
       "      <td>13445.63</td>\n",
       "      <td>72.537533</td>\n",
       "      <td>2018-01-01 01:14:59.999</td>\n",
       "      <td>9.778198e+05</td>\n",
       "      <td>898</td>\n",
       "      <td>34.257652</td>\n",
       "      <td>4.618369e+05</td>\n",
       "      <td>0</td>\n",
       "    </tr>\n",
       "  </tbody>\n",
       "</table>\n",
       "</div>"
      ],
      "text/plain": [
       "             Open time      Open      High       Low     Close      Volume  \\\n",
       "0  2018-01-01 00:00:00  13715.65  13715.65  13400.01  13556.15  123.616013   \n",
       "1  2018-01-01 00:15:00  13533.75  13550.87  13402.00  13521.12   98.136430   \n",
       "2  2018-01-01 00:30:00  13500.00  13545.37  13450.00  13470.41   79.904037   \n",
       "3  2018-01-01 00:45:00  13494.65  13690.87  13450.00  13529.01  141.699719   \n",
       "4  2018-01-01 01:00:00  13528.99  13571.74  13402.28  13445.63   72.537533   \n",
       "\n",
       "                Close time  Quote asset volume  Number of trades  \\\n",
       "0  2018-01-01 00:14:59.999        1.675545e+06              1572   \n",
       "1  2018-01-01 00:29:59.999        1.321757e+06              1461   \n",
       "2  2018-01-01 00:44:59.999        1.078825e+06              1000   \n",
       "3  2018-01-01 00:59:59.999        1.917783e+06              1195   \n",
       "4  2018-01-01 01:14:59.999        9.778198e+05               898   \n",
       "\n",
       "   Taker buy base asset volume  Taker buy quote asset volume  Ignore  \n",
       "0                    63.227133                  8.576108e+05       0  \n",
       "1                    47.686389                  6.422812e+05       0  \n",
       "2                    43.710406                  5.900347e+05       0  \n",
       "3                    73.897993                  1.000614e+06       0  \n",
       "4                    34.257652                  4.618369e+05       0  "
      ]
     },
     "execution_count": 3,
     "metadata": {},
     "output_type": "execute_result"
    }
   ],
   "source": [
    "data.head(5)"
   ]
  },
  {
   "cell_type": "code",
   "execution_count": 16,
   "id": "7338a476-2f4b-4755-9df9-be3ca921165e",
   "metadata": {},
   "outputs": [],
   "source": [
    "data = data[[\"Open time\", \"Open\", \"High\", \"Low\", \"Close\", \"Volume\",]]"
   ]
  },
  {
   "cell_type": "code",
   "execution_count": 17,
   "id": "f80075f2-f40b-457f-b364-5da654dbf26d",
   "metadata": {},
   "outputs": [],
   "source": [
    "data = data[[\"Open time\", \"Close\"]]"
   ]
  },
  {
   "cell_type": "code",
   "execution_count": 18,
   "id": "46bfc8b1-3fe6-4bf1-9bea-b60af071c539",
   "metadata": {},
   "outputs": [
    {
     "data": {
      "text/html": [
       "<div>\n",
       "<style scoped>\n",
       "    .dataframe tbody tr th:only-of-type {\n",
       "        vertical-align: middle;\n",
       "    }\n",
       "\n",
       "    .dataframe tbody tr th {\n",
       "        vertical-align: top;\n",
       "    }\n",
       "\n",
       "    .dataframe thead th {\n",
       "        text-align: right;\n",
       "    }\n",
       "</style>\n",
       "<table border=\"1\" class=\"dataframe\">\n",
       "  <thead>\n",
       "    <tr style=\"text-align: right;\">\n",
       "      <th></th>\n",
       "      <th>Open time</th>\n",
       "      <th>Close</th>\n",
       "    </tr>\n",
       "  </thead>\n",
       "  <tbody>\n",
       "    <tr>\n",
       "      <th>0</th>\n",
       "      <td>2018-01-01 00:00:00</td>\n",
       "      <td>13556.15</td>\n",
       "    </tr>\n",
       "    <tr>\n",
       "      <th>1</th>\n",
       "      <td>2018-01-01 00:15:00</td>\n",
       "      <td>13521.12</td>\n",
       "    </tr>\n",
       "    <tr>\n",
       "      <th>2</th>\n",
       "      <td>2018-01-01 00:30:00</td>\n",
       "      <td>13470.41</td>\n",
       "    </tr>\n",
       "    <tr>\n",
       "      <th>3</th>\n",
       "      <td>2018-01-01 00:45:00</td>\n",
       "      <td>13529.01</td>\n",
       "    </tr>\n",
       "    <tr>\n",
       "      <th>4</th>\n",
       "      <td>2018-01-01 01:00:00</td>\n",
       "      <td>13445.63</td>\n",
       "    </tr>\n",
       "    <tr>\n",
       "      <th>5</th>\n",
       "      <td>2018-01-01 01:15:00</td>\n",
       "      <td>13560.00</td>\n",
       "    </tr>\n",
       "    <tr>\n",
       "      <th>6</th>\n",
       "      <td>2018-01-01 01:30:00</td>\n",
       "      <td>13440.01</td>\n",
       "    </tr>\n",
       "    <tr>\n",
       "      <th>7</th>\n",
       "      <td>2018-01-01 01:45:00</td>\n",
       "      <td>13203.06</td>\n",
       "    </tr>\n",
       "    <tr>\n",
       "      <th>8</th>\n",
       "      <td>2018-01-01 02:00:00</td>\n",
       "      <td>13387.00</td>\n",
       "    </tr>\n",
       "    <tr>\n",
       "      <th>9</th>\n",
       "      <td>2018-01-01 02:15:00</td>\n",
       "      <td>13225.00</td>\n",
       "    </tr>\n",
       "  </tbody>\n",
       "</table>\n",
       "</div>"
      ],
      "text/plain": [
       "             Open time     Close\n",
       "0  2018-01-01 00:00:00  13556.15\n",
       "1  2018-01-01 00:15:00  13521.12\n",
       "2  2018-01-01 00:30:00  13470.41\n",
       "3  2018-01-01 00:45:00  13529.01\n",
       "4  2018-01-01 01:00:00  13445.63\n",
       "5  2018-01-01 01:15:00  13560.00\n",
       "6  2018-01-01 01:30:00  13440.01\n",
       "7  2018-01-01 01:45:00  13203.06\n",
       "8  2018-01-01 02:00:00  13387.00\n",
       "9  2018-01-01 02:15:00  13225.00"
      ]
     },
     "execution_count": 18,
     "metadata": {},
     "output_type": "execute_result"
    }
   ],
   "source": [
    "data.head(10)"
   ]
  },
  {
   "cell_type": "code",
   "execution_count": null,
   "id": "8452eda5-3086-4c5f-9082-949f352e828f",
   "metadata": {},
   "outputs": [],
   "source": []
  },
  {
   "cell_type": "code",
   "execution_count": null,
   "id": "a12ac8e2-7ecc-41bd-973b-95aed6265a98",
   "metadata": {},
   "outputs": [
    {
     "data": {
      "text/plain": [
       "[<matplotlib.lines.Line2D at 0x7f6fcd5cc940>]"
      ]
     },
     "execution_count": 19,
     "metadata": {},
     "output_type": "execute_result"
    }
   ],
   "source": [
    "import matplotlib.pyplot as plt\n",
    "plt.style.use('fivethirtyeight')\n",
    "plt.figure(figsize=(15, 10))\n",
    "plt.plot(data[\"Open time\"], data[\"Close\"])"
   ]
  },
  {
   "cell_type": "code",
   "execution_count": null,
   "id": "deeb17b9-c5d1-4a4c-ba27-e1b562a9afd2",
   "metadata": {},
   "outputs": [],
   "source": [
    "from statsmodels.tsa.seasonal import seasonal_decompose\n",
    "result = seasonal_decompose(data[\"Close\"],model='multiplicative', freq = 30)\n",
    "fig = plt.figure()  \n",
    "fig = result.plot()  \n",
    "fig.set_size_inches(15, 10)"
   ]
  },
  {
   "cell_type": "code",
   "execution_count": null,
   "id": "e22e0542-2892-4d57-930f-ed7e1013a59b",
   "metadata": {},
   "outputs": [],
   "source": [
    "pd.plotting.autocorrelation_plot(data[\"Close\"])"
   ]
  },
  {
   "cell_type": "code",
   "execution_count": null,
   "id": "bda82820-e495-4a6b-9e9e-135180522400",
   "metadata": {},
   "outputs": [],
   "source": [
    "from statsmodels.graphics.tsaplots import plot_pacf\n",
    "plot_pacf(data[\"Close\"], lags = 100)"
   ]
  },
  {
   "cell_type": "code",
   "execution_count": null,
   "id": "32968320-7fca-49fe-b7d9-d2d54a5920c6",
   "metadata": {},
   "outputs": [],
   "source": [
    "# for stationary data\n",
    "p, d, q = 5, 1, 2\n",
    "from statsmodels.tsa.arima_model import ARIMA\n",
    "model = ARIMA(data[\"Close\"], order=(p,d,q))  \n",
    "fitted = model.fit(disp=-1)  \n",
    "print(fitted.summary())"
   ]
  },
  {
   "cell_type": "code",
   "execution_count": null,
   "id": "1ba2b22b-5930-40f2-82f6-d0c4a89094ed",
   "metadata": {},
   "outputs": [],
   "source": [
    "predictions = fitted.predict()\n",
    "print(predictions)"
   ]
  },
  {
   "cell_type": "code",
   "execution_count": null,
   "id": "684e25b0-eff0-4105-a4bd-1e12f2552c3a",
   "metadata": {},
   "outputs": [],
   "source": [
    "# Seasonal data\n",
    "import statsmodels.api as sm\n",
    "import warnings\n",
    "model=sm.tsa.statespace.SARIMAX(data['Close'],order=(p, d, q),seasonal_order=(p, d, q, 12))\n",
    "model=model.fit()\n",
    "print(model.summary())"
   ]
  },
  {
   "cell_type": "code",
   "execution_count": null,
   "id": "1c9a8f87-1630-44b7-ab55-67304a458620",
   "metadata": {},
   "outputs": [],
   "source": [
    "predictions = model.predict(len(data), len(data)+10)\n",
    "print(predictions)"
   ]
  },
  {
   "cell_type": "code",
   "execution_count": null,
   "id": "7a26bb29-dcec-40b9-9d28-a93b61ec2d24",
   "metadata": {},
   "outputs": [],
   "source": [
    "data[\"Close\"].plot(legend=True, label=\"Training Data\", figsize=(15, 10))\n",
    "predictions.plot(legend=True, label=\"Predictions\")"
   ]
  }
 ],
 "metadata": {
  "kernelspec": {
   "display_name": "Python 3 (ipykernel)",
   "language": "python",
   "name": "python3"
  },
  "language_info": {
   "codemirror_mode": {
    "name": "ipython",
    "version": 3
   },
   "file_extension": ".py",
   "mimetype": "text/x-python",
   "name": "python",
   "nbconvert_exporter": "python",
   "pygments_lexer": "ipython3",
   "version": "3.9.21"
  }
 },
 "nbformat": 4,
 "nbformat_minor": 5
}
