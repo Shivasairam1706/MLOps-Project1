{
 "cells": [
  {
   "cell_type": "code",
   "execution_count": 1,
   "id": "63705cab-7db6-47be-a273-95ab95526250",
   "metadata": {},
   "outputs": [],
   "source": [
    "import sys\n",
    "import os\n",
    "import env_var\n",
    "import spark_session\n",
    "import validate\n",
    "import logging\n",
    "import logging.config\n",
    "import ingest\n",
    "import data_prep"
   ]
  },
  {
   "cell_type": "code",
   "execution_count": 2,
   "id": "1a556b88-53ec-47fc-aee6-061952700e17",
   "metadata": {},
   "outputs": [
    {
     "name": "stdout",
     "output_type": "stream",
     "text": [
      "CPU times: user 1 µs, sys: 1 µs, total: 2 µs\n",
      "Wall time: 5.25 µs\n"
     ]
    }
   ],
   "source": [
    "%time"
   ]
  },
  {
   "cell_type": "code",
   "execution_count": 3,
   "id": "428e5dc5-91e3-4c62-8ef3-435a6a722b52",
   "metadata": {},
   "outputs": [],
   "source": [
    "open('application.log', 'w').close() ## To reset the application.log for every notebook run"
   ]
  },
  {
   "cell_type": "code",
   "execution_count": 4,
   "id": "6ec1b494-75e7-4d9b-aba8-085530c4b316",
   "metadata": {},
   "outputs": [],
   "source": [
    "logging.config.fileConfig('logging.config')\n",
    "logger = logging.getLogger('root')\n",
    "logger.setLevel(logging.DEBUG)"
   ]
  },
  {
   "cell_type": "code",
   "execution_count": 5,
   "id": "a3bc48ea-49fe-452f-ac94-0700a021698c",
   "metadata": {},
   "outputs": [
    {
     "name": "stdout",
     "output_type": "stream",
     "text": [
      "CPU times: user 3 µs, sys: 2 µs, total: 5 µs\n",
      "Wall time: 7.63 µs\n"
     ]
    }
   ],
   "source": [
    "%time"
   ]
  },
  {
   "cell_type": "code",
   "execution_count": 6,
   "id": "bba0fb11-426c-4d4f-b95c-c686aa65bfd1",
   "metadata": {},
   "outputs": [
    {
     "name": "stdout",
     "output_type": "stream",
     "text": [
      "2025-02-19 20:00:06,992 - root - INFO - Creating Spark Session... create_spark_session Method started\n",
      "2025-02-19 20:00:06,996 - root - INFO - Calling spark object...\n"
     ]
    },
    {
     "name": "stderr",
     "output_type": "stream",
     "text": [
      "Setting default log level to \"WARN\".\n",
      "To adjust logging level use sc.setLogLevel(newLevel). For SparkR, use setLogLevel(newLevel).\n",
      "25/02/19 20:00:08 WARN NativeCodeLoader: Unable to load native-hadoop library for your platform... using builtin-java classes where applicable\n"
     ]
    },
    {
     "name": "stdout",
     "output_type": "stream",
     "text": [
      "2025-02-19 20:00:09,957 - root - INFO - Validating the Spark object\n"
     ]
    }
   ],
   "source": [
    "spark = spark_session.create_spark_session()"
   ]
  },
  {
   "cell_type": "code",
   "execution_count": 7,
   "id": "1b08e517-ecef-4216-852d-31a578187fdc",
   "metadata": {},
   "outputs": [
    {
     "name": "stdout",
     "output_type": "stream",
     "text": [
      "CPU times: user 3 µs, sys: 2 µs, total: 5 µs\n",
      "Wall time: 12.2 µs\n"
     ]
    }
   ],
   "source": [
    "%time"
   ]
  },
  {
   "cell_type": "code",
   "execution_count": 8,
   "id": "0ec71fcc-e8f0-4dfd-bc52-34bbd8b08580",
   "metadata": {},
   "outputs": [
    {
     "name": "stdout",
     "output_type": "stream",
     "text": [
      "2025-02-19 20:00:23,721 - root - WARNING - Retrieving the file name from the path -> /home/jupyteruser/work/data\n",
      "2025-02-19 20:00:23,734 - root - WARNING - Successfully retrieved the file and path -> /home/jupyteruser/work/data/btc_15m_data_2018_to_2025.csv\n",
      "2025-02-19 20:00:23,735 - root - WARNING - Successfully retrieved the file and path -> /home/jupyteruser/work/data/btc_1h_data_2018_to_2025.csv\n",
      "2025-02-19 20:00:23,736 - root - WARNING - Path information has been read successfully of csv\n"
     ]
    }
   ],
   "source": [
    "file_format, header, inferschema, path_file = ingest.get_src_path(env_var.src_path,'csv')"
   ]
  },
  {
   "cell_type": "code",
   "execution_count": 9,
   "id": "7d042c44-61ba-4c14-b3ca-b8a73545e4cd",
   "metadata": {},
   "outputs": [
    {
     "name": "stdout",
     "output_type": "stream",
     "text": [
      "CPU times: user 2 µs, sys: 1 µs, total: 3 µs\n",
      "Wall time: 4.53 µs\n"
     ]
    }
   ],
   "source": [
    "%time"
   ]
  },
  {
   "cell_type": "code",
   "execution_count": 10,
   "id": "5db7bcc9-30fe-4c7f-b8ad-58398e5df42d",
   "metadata": {},
   "outputs": [],
   "source": [
    "main_df = ingest.ingest_data(in_spark=spark,in_file_path=path_file,in_file_format=file_format,in_header=header,in_schema=inferschema)"
   ]
  },
  {
   "cell_type": "code",
   "execution_count": 11,
   "id": "4b541309-b543-403c-8089-2b8aed69dd02",
   "metadata": {},
   "outputs": [
    {
     "name": "stdout",
     "output_type": "stream",
     "text": [
      "CPU times: user 2 µs, sys: 1 µs, total: 3 µs\n",
      "Wall time: 7.15 µs\n"
     ]
    }
   ],
   "source": [
    "%time"
   ]
  },
  {
   "cell_type": "code",
   "execution_count": 12,
   "id": "0f88c722-2cb1-4f78-ac3d-6ed37b456bbd",
   "metadata": {},
   "outputs": [],
   "source": [
    "main_df = data_prep.renm_nd_chg_typ(main_df, env_var.new_cols)"
   ]
  },
  {
   "cell_type": "code",
   "execution_count": null,
   "id": "9f6dbbb5-49a9-4d63-b12e-8c5a9de05845",
   "metadata": {
    "scrolled": true
   },
   "outputs": [],
   "source": [
    "if __name__ == '__main__':\n",
    "    # creates spark session/object\n",
    "    spark = SparkSession()\n",
    "    logging.info('Application done..')\n",
    "    # Reads the files from source path and assigns base parameters using the file_type\n",
    "    file_format, header, inferschema, path_file = ingest.get_src_path(env_var.src_path,'csv')\n",
    "    # Creates a dataframe using the ingest_data method of ingest.py file\n",
    "    main_df = ingest.ingest_data(in_spark=spark,in_file_path=path_file,in_file_format=file_format,in_header=header,in_schema=inferschema)\n",
    "    "
   ]
  }
 ],
 "metadata": {
  "kernelspec": {
   "display_name": "Python 3 (ipykernel)",
   "language": "python",
   "name": "python3"
  },
  "language_info": {
   "codemirror_mode": {
    "name": "ipython",
    "version": 3
   },
   "file_extension": ".py",
   "mimetype": "text/x-python",
   "name": "python",
   "nbconvert_exporter": "python",
   "pygments_lexer": "ipython3",
   "version": "3.9.21"
  }
 },
 "nbformat": 4,
 "nbformat_minor": 5
}
